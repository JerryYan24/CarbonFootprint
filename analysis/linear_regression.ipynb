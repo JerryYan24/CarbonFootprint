{
 "cells": [
  {
   "cell_type": "code",
   "execution_count": 51,
   "id": "a0f2ebbb",
   "metadata": {},
   "outputs": [],
   "source": [
    "import pandas as pd\n",
    "import os\n",
    "import numpy as np\n",
    "from sklearn import linear_model\n",
    "from sklearn.metrics import mean_squared_error, mean_absolute_error\n",
    "\n",
    "import seaborn as sns"
   ]
  },
  {
   "cell_type": "code",
   "execution_count": 52,
   "id": "94f66a77",
   "metadata": {},
   "outputs": [],
   "source": [
    "data_dir = '../data_extraction/'\n",
    "csv_file = 'extracted_data_v1.csv'\n",
    "filepath = os.path.join(data_dir, csv_file)"
   ]
  },
  {
   "cell_type": "code",
   "execution_count": 53,
   "id": "607fbe00",
   "metadata": {},
   "outputs": [
    {
     "data": {
      "text/html": [
       "<div>\n",
       "<style scoped>\n",
       "    .dataframe tbody tr th:only-of-type {\n",
       "        vertical-align: middle;\n",
       "    }\n",
       "\n",
       "    .dataframe tbody tr th {\n",
       "        vertical-align: top;\n",
       "    }\n",
       "\n",
       "    .dataframe thead th {\n",
       "        text-align: right;\n",
       "    }\n",
       "</style>\n",
       "<table border=\"1\" class=\"dataframe\">\n",
       "  <thead>\n",
       "    <tr style=\"text-align: right;\">\n",
       "      <th></th>\n",
       "      <th>coal</th>\n",
       "      <th>electricity</th>\n",
       "      <th>natural gas</th>\n",
       "      <th>wood</th>\n",
       "      <th>private</th>\n",
       "      <th>public</th>\n",
       "      <th>walk/bicycle</th>\n",
       "      <th>diesel</th>\n",
       "      <th>electric</th>\n",
       "      <th>hybrid</th>\n",
       "      <th>lpg</th>\n",
       "      <th>petrol</th>\n",
       "      <th>Vehicle Monthly Distance Km</th>\n",
       "      <th>Frequency of Traveling by Air</th>\n",
       "      <th>extra large waste bag</th>\n",
       "      <th>large waste bag</th>\n",
       "      <th>medium waste bag</th>\n",
       "      <th>small waste bag</th>\n",
       "      <th>Waste Bag Weekly Count</th>\n",
       "      <th>CarbonEmission</th>\n",
       "    </tr>\n",
       "  </thead>\n",
       "  <tbody>\n",
       "    <tr>\n",
       "      <th>0</th>\n",
       "      <td>1</td>\n",
       "      <td>0</td>\n",
       "      <td>0</td>\n",
       "      <td>0</td>\n",
       "      <td>0</td>\n",
       "      <td>1</td>\n",
       "      <td>0</td>\n",
       "      <td>0</td>\n",
       "      <td>0</td>\n",
       "      <td>0</td>\n",
       "      <td>0</td>\n",
       "      <td>0</td>\n",
       "      <td>210</td>\n",
       "      <td>2</td>\n",
       "      <td>0</td>\n",
       "      <td>1</td>\n",
       "      <td>0</td>\n",
       "      <td>0</td>\n",
       "      <td>4</td>\n",
       "      <td>2238</td>\n",
       "    </tr>\n",
       "    <tr>\n",
       "      <th>1</th>\n",
       "      <td>0</td>\n",
       "      <td>0</td>\n",
       "      <td>1</td>\n",
       "      <td>0</td>\n",
       "      <td>0</td>\n",
       "      <td>0</td>\n",
       "      <td>1</td>\n",
       "      <td>0</td>\n",
       "      <td>0</td>\n",
       "      <td>0</td>\n",
       "      <td>0</td>\n",
       "      <td>0</td>\n",
       "      <td>9</td>\n",
       "      <td>1</td>\n",
       "      <td>1</td>\n",
       "      <td>0</td>\n",
       "      <td>0</td>\n",
       "      <td>0</td>\n",
       "      <td>3</td>\n",
       "      <td>1892</td>\n",
       "    </tr>\n",
       "    <tr>\n",
       "      <th>2</th>\n",
       "      <td>0</td>\n",
       "      <td>0</td>\n",
       "      <td>0</td>\n",
       "      <td>1</td>\n",
       "      <td>1</td>\n",
       "      <td>0</td>\n",
       "      <td>0</td>\n",
       "      <td>0</td>\n",
       "      <td>0</td>\n",
       "      <td>0</td>\n",
       "      <td>0</td>\n",
       "      <td>1</td>\n",
       "      <td>2472</td>\n",
       "      <td>0</td>\n",
       "      <td>0</td>\n",
       "      <td>0</td>\n",
       "      <td>0</td>\n",
       "      <td>1</td>\n",
       "      <td>1</td>\n",
       "      <td>2595</td>\n",
       "    </tr>\n",
       "    <tr>\n",
       "      <th>3</th>\n",
       "      <td>0</td>\n",
       "      <td>0</td>\n",
       "      <td>0</td>\n",
       "      <td>1</td>\n",
       "      <td>0</td>\n",
       "      <td>0</td>\n",
       "      <td>1</td>\n",
       "      <td>0</td>\n",
       "      <td>0</td>\n",
       "      <td>0</td>\n",
       "      <td>0</td>\n",
       "      <td>0</td>\n",
       "      <td>74</td>\n",
       "      <td>1</td>\n",
       "      <td>0</td>\n",
       "      <td>0</td>\n",
       "      <td>1</td>\n",
       "      <td>0</td>\n",
       "      <td>3</td>\n",
       "      <td>1074</td>\n",
       "    </tr>\n",
       "    <tr>\n",
       "      <th>4</th>\n",
       "      <td>1</td>\n",
       "      <td>0</td>\n",
       "      <td>0</td>\n",
       "      <td>0</td>\n",
       "      <td>1</td>\n",
       "      <td>0</td>\n",
       "      <td>0</td>\n",
       "      <td>1</td>\n",
       "      <td>0</td>\n",
       "      <td>0</td>\n",
       "      <td>0</td>\n",
       "      <td>0</td>\n",
       "      <td>8457</td>\n",
       "      <td>3</td>\n",
       "      <td>0</td>\n",
       "      <td>1</td>\n",
       "      <td>0</td>\n",
       "      <td>0</td>\n",
       "      <td>1</td>\n",
       "      <td>4743</td>\n",
       "    </tr>\n",
       "    <tr>\n",
       "      <th>...</th>\n",
       "      <td>...</td>\n",
       "      <td>...</td>\n",
       "      <td>...</td>\n",
       "      <td>...</td>\n",
       "      <td>...</td>\n",
       "      <td>...</td>\n",
       "      <td>...</td>\n",
       "      <td>...</td>\n",
       "      <td>...</td>\n",
       "      <td>...</td>\n",
       "      <td>...</td>\n",
       "      <td>...</td>\n",
       "      <td>...</td>\n",
       "      <td>...</td>\n",
       "      <td>...</td>\n",
       "      <td>...</td>\n",
       "      <td>...</td>\n",
       "      <td>...</td>\n",
       "      <td>...</td>\n",
       "      <td>...</td>\n",
       "    </tr>\n",
       "    <tr>\n",
       "      <th>9995</th>\n",
       "      <td>1</td>\n",
       "      <td>0</td>\n",
       "      <td>0</td>\n",
       "      <td>0</td>\n",
       "      <td>1</td>\n",
       "      <td>0</td>\n",
       "      <td>0</td>\n",
       "      <td>0</td>\n",
       "      <td>0</td>\n",
       "      <td>1</td>\n",
       "      <td>0</td>\n",
       "      <td>0</td>\n",
       "      <td>268</td>\n",
       "      <td>0</td>\n",
       "      <td>0</td>\n",
       "      <td>0</td>\n",
       "      <td>1</td>\n",
       "      <td>0</td>\n",
       "      <td>5</td>\n",
       "      <td>2408</td>\n",
       "    </tr>\n",
       "    <tr>\n",
       "      <th>9996</th>\n",
       "      <td>1</td>\n",
       "      <td>0</td>\n",
       "      <td>0</td>\n",
       "      <td>0</td>\n",
       "      <td>1</td>\n",
       "      <td>0</td>\n",
       "      <td>0</td>\n",
       "      <td>0</td>\n",
       "      <td>0</td>\n",
       "      <td>0</td>\n",
       "      <td>1</td>\n",
       "      <td>0</td>\n",
       "      <td>5316</td>\n",
       "      <td>2</td>\n",
       "      <td>1</td>\n",
       "      <td>0</td>\n",
       "      <td>0</td>\n",
       "      <td>0</td>\n",
       "      <td>3</td>\n",
       "      <td>3084</td>\n",
       "    </tr>\n",
       "    <tr>\n",
       "      <th>9997</th>\n",
       "      <td>0</td>\n",
       "      <td>1</td>\n",
       "      <td>0</td>\n",
       "      <td>0</td>\n",
       "      <td>0</td>\n",
       "      <td>0</td>\n",
       "      <td>1</td>\n",
       "      <td>0</td>\n",
       "      <td>0</td>\n",
       "      <td>0</td>\n",
       "      <td>0</td>\n",
       "      <td>0</td>\n",
       "      <td>96</td>\n",
       "      <td>3</td>\n",
       "      <td>1</td>\n",
       "      <td>0</td>\n",
       "      <td>0</td>\n",
       "      <td>0</td>\n",
       "      <td>5</td>\n",
       "      <td>2377</td>\n",
       "    </tr>\n",
       "    <tr>\n",
       "      <th>9998</th>\n",
       "      <td>1</td>\n",
       "      <td>0</td>\n",
       "      <td>0</td>\n",
       "      <td>0</td>\n",
       "      <td>1</td>\n",
       "      <td>0</td>\n",
       "      <td>0</td>\n",
       "      <td>0</td>\n",
       "      <td>0</td>\n",
       "      <td>0</td>\n",
       "      <td>0</td>\n",
       "      <td>1</td>\n",
       "      <td>8688</td>\n",
       "      <td>1</td>\n",
       "      <td>0</td>\n",
       "      <td>0</td>\n",
       "      <td>1</td>\n",
       "      <td>0</td>\n",
       "      <td>5</td>\n",
       "      <td>4574</td>\n",
       "    </tr>\n",
       "    <tr>\n",
       "      <th>9999</th>\n",
       "      <td>0</td>\n",
       "      <td>0</td>\n",
       "      <td>0</td>\n",
       "      <td>1</td>\n",
       "      <td>1</td>\n",
       "      <td>0</td>\n",
       "      <td>0</td>\n",
       "      <td>0</td>\n",
       "      <td>1</td>\n",
       "      <td>0</td>\n",
       "      <td>0</td>\n",
       "      <td>0</td>\n",
       "      <td>9952</td>\n",
       "      <td>0</td>\n",
       "      <td>0</td>\n",
       "      <td>0</td>\n",
       "      <td>0</td>\n",
       "      <td>1</td>\n",
       "      <td>4</td>\n",
       "      <td>826</td>\n",
       "    </tr>\n",
       "  </tbody>\n",
       "</table>\n",
       "<p>10000 rows × 20 columns</p>\n",
       "</div>"
      ],
      "text/plain": [
       "      coal  electricity  natural gas  wood  private  public  walk/bicycle  \\\n",
       "0        1            0            0     0        0       1             0   \n",
       "1        0            0            1     0        0       0             1   \n",
       "2        0            0            0     1        1       0             0   \n",
       "3        0            0            0     1        0       0             1   \n",
       "4        1            0            0     0        1       0             0   \n",
       "...    ...          ...          ...   ...      ...     ...           ...   \n",
       "9995     1            0            0     0        1       0             0   \n",
       "9996     1            0            0     0        1       0             0   \n",
       "9997     0            1            0     0        0       0             1   \n",
       "9998     1            0            0     0        1       0             0   \n",
       "9999     0            0            0     1        1       0             0   \n",
       "\n",
       "      diesel  electric  hybrid  lpg  petrol  Vehicle Monthly Distance Km  \\\n",
       "0          0         0       0    0       0                          210   \n",
       "1          0         0       0    0       0                            9   \n",
       "2          0         0       0    0       1                         2472   \n",
       "3          0         0       0    0       0                           74   \n",
       "4          1         0       0    0       0                         8457   \n",
       "...      ...       ...     ...  ...     ...                          ...   \n",
       "9995       0         0       1    0       0                          268   \n",
       "9996       0         0       0    1       0                         5316   \n",
       "9997       0         0       0    0       0                           96   \n",
       "9998       0         0       0    0       1                         8688   \n",
       "9999       0         1       0    0       0                         9952   \n",
       "\n",
       "      Frequency of Traveling by Air  extra large waste bag  large waste bag  \\\n",
       "0                                 2                      0                1   \n",
       "1                                 1                      1                0   \n",
       "2                                 0                      0                0   \n",
       "3                                 1                      0                0   \n",
       "4                                 3                      0                1   \n",
       "...                             ...                    ...              ...   \n",
       "9995                              0                      0                0   \n",
       "9996                              2                      1                0   \n",
       "9997                              3                      1                0   \n",
       "9998                              1                      0                0   \n",
       "9999                              0                      0                0   \n",
       "\n",
       "      medium waste bag  small waste bag  Waste Bag Weekly Count  \\\n",
       "0                    0                0                       4   \n",
       "1                    0                0                       3   \n",
       "2                    0                1                       1   \n",
       "3                    1                0                       3   \n",
       "4                    0                0                       1   \n",
       "...                ...              ...                     ...   \n",
       "9995                 1                0                       5   \n",
       "9996                 0                0                       3   \n",
       "9997                 0                0                       5   \n",
       "9998                 1                0                       5   \n",
       "9999                 0                1                       4   \n",
       "\n",
       "      CarbonEmission  \n",
       "0               2238  \n",
       "1               1892  \n",
       "2               2595  \n",
       "3               1074  \n",
       "4               4743  \n",
       "...              ...  \n",
       "9995            2408  \n",
       "9996            3084  \n",
       "9997            2377  \n",
       "9998            4574  \n",
       "9999             826  \n",
       "\n",
       "[10000 rows x 20 columns]"
      ]
     },
     "execution_count": 53,
     "metadata": {},
     "output_type": "execute_result"
    }
   ],
   "source": [
    "df = pd.read_csv(filepath)\n",
    "df"
   ]
  },
  {
   "cell_type": "code",
   "execution_count": 54,
   "id": "237f3395",
   "metadata": {},
   "outputs": [
    {
     "data": {
      "text/plain": [
       "(10000, 20)"
      ]
     },
     "execution_count": 54,
     "metadata": {},
     "output_type": "execute_result"
    }
   ],
   "source": [
    "df.shape"
   ]
  },
  {
   "cell_type": "code",
   "execution_count": 55,
   "id": "fba7e42f",
   "metadata": {},
   "outputs": [],
   "source": [
    "dataset = np.asarray(df, dtype='int32')\n",
    "np.random.seed(0)\n",
    "np.random.shuffle(dataset)"
   ]
  },
  {
   "cell_type": "code",
   "execution_count": 56,
   "id": "e005fd79",
   "metadata": {},
   "outputs": [
    {
     "data": {
      "text/plain": [
       "(10000, 19)"
      ]
     },
     "execution_count": 56,
     "metadata": {},
     "output_type": "execute_result"
    }
   ],
   "source": [
    "features = dataset[:,:-1]\n",
    "features.shape"
   ]
  },
  {
   "cell_type": "code",
   "execution_count": 57,
   "id": "309684fa",
   "metadata": {},
   "outputs": [
    {
     "data": {
      "text/plain": [
       "(10000, 1)"
      ]
     },
     "execution_count": 57,
     "metadata": {},
     "output_type": "execute_result"
    }
   ],
   "source": [
    "labels = dataset[:,-1].reshape((len(dataset),-1))\n",
    "labels.shape"
   ]
  },
  {
   "cell_type": "code",
   "execution_count": 58,
   "id": "1af33db5",
   "metadata": {},
   "outputs": [],
   "source": [
    "train_features = features[:8000]\n",
    "train_labels = labels[:8000]\n",
    "test_features = features[8000:]\n",
    "test_labels = labels[8000:]"
   ]
  },
  {
   "cell_type": "code",
   "execution_count": 59,
   "id": "2322d3cf",
   "metadata": {},
   "outputs": [
    {
     "data": {
      "text/html": [
       "<style>#sk-container-id-4 {color: black;}#sk-container-id-4 pre{padding: 0;}#sk-container-id-4 div.sk-toggleable {background-color: white;}#sk-container-id-4 label.sk-toggleable__label {cursor: pointer;display: block;width: 100%;margin-bottom: 0;padding: 0.3em;box-sizing: border-box;text-align: center;}#sk-container-id-4 label.sk-toggleable__label-arrow:before {content: \"▸\";float: left;margin-right: 0.25em;color: #696969;}#sk-container-id-4 label.sk-toggleable__label-arrow:hover:before {color: black;}#sk-container-id-4 div.sk-estimator:hover label.sk-toggleable__label-arrow:before {color: black;}#sk-container-id-4 div.sk-toggleable__content {max-height: 0;max-width: 0;overflow: hidden;text-align: left;background-color: #f0f8ff;}#sk-container-id-4 div.sk-toggleable__content pre {margin: 0.2em;color: black;border-radius: 0.25em;background-color: #f0f8ff;}#sk-container-id-4 input.sk-toggleable__control:checked~div.sk-toggleable__content {max-height: 200px;max-width: 100%;overflow: auto;}#sk-container-id-4 input.sk-toggleable__control:checked~label.sk-toggleable__label-arrow:before {content: \"▾\";}#sk-container-id-4 div.sk-estimator input.sk-toggleable__control:checked~label.sk-toggleable__label {background-color: #d4ebff;}#sk-container-id-4 div.sk-label input.sk-toggleable__control:checked~label.sk-toggleable__label {background-color: #d4ebff;}#sk-container-id-4 input.sk-hidden--visually {border: 0;clip: rect(1px 1px 1px 1px);clip: rect(1px, 1px, 1px, 1px);height: 1px;margin: -1px;overflow: hidden;padding: 0;position: absolute;width: 1px;}#sk-container-id-4 div.sk-estimator {font-family: monospace;background-color: #f0f8ff;border: 1px dotted black;border-radius: 0.25em;box-sizing: border-box;margin-bottom: 0.5em;}#sk-container-id-4 div.sk-estimator:hover {background-color: #d4ebff;}#sk-container-id-4 div.sk-parallel-item::after {content: \"\";width: 100%;border-bottom: 1px solid gray;flex-grow: 1;}#sk-container-id-4 div.sk-label:hover label.sk-toggleable__label {background-color: #d4ebff;}#sk-container-id-4 div.sk-serial::before {content: \"\";position: absolute;border-left: 1px solid gray;box-sizing: border-box;top: 0;bottom: 0;left: 50%;z-index: 0;}#sk-container-id-4 div.sk-serial {display: flex;flex-direction: column;align-items: center;background-color: white;padding-right: 0.2em;padding-left: 0.2em;position: relative;}#sk-container-id-4 div.sk-item {position: relative;z-index: 1;}#sk-container-id-4 div.sk-parallel {display: flex;align-items: stretch;justify-content: center;background-color: white;position: relative;}#sk-container-id-4 div.sk-item::before, #sk-container-id-4 div.sk-parallel-item::before {content: \"\";position: absolute;border-left: 1px solid gray;box-sizing: border-box;top: 0;bottom: 0;left: 50%;z-index: -1;}#sk-container-id-4 div.sk-parallel-item {display: flex;flex-direction: column;z-index: 1;position: relative;background-color: white;}#sk-container-id-4 div.sk-parallel-item:first-child::after {align-self: flex-end;width: 50%;}#sk-container-id-4 div.sk-parallel-item:last-child::after {align-self: flex-start;width: 50%;}#sk-container-id-4 div.sk-parallel-item:only-child::after {width: 0;}#sk-container-id-4 div.sk-dashed-wrapped {border: 1px dashed gray;margin: 0 0.4em 0.5em 0.4em;box-sizing: border-box;padding-bottom: 0.4em;background-color: white;}#sk-container-id-4 div.sk-label label {font-family: monospace;font-weight: bold;display: inline-block;line-height: 1.2em;}#sk-container-id-4 div.sk-label-container {text-align: center;}#sk-container-id-4 div.sk-container {/* jupyter's `normalize.less` sets `[hidden] { display: none; }` but bootstrap.min.css set `[hidden] { display: none !important; }` so we also need the `!important` here to be able to override the default hidden behavior on the sphinx rendered scikit-learn.org. See: https://github.com/scikit-learn/scikit-learn/issues/21755 */display: inline-block !important;position: relative;}#sk-container-id-4 div.sk-text-repr-fallback {display: none;}</style><div id=\"sk-container-id-4\" class=\"sk-top-container\"><div class=\"sk-text-repr-fallback\"><pre>LinearRegression()</pre><b>In a Jupyter environment, please rerun this cell to show the HTML representation or trust the notebook. <br />On GitHub, the HTML representation is unable to render, please try loading this page with nbviewer.org.</b></div><div class=\"sk-container\" hidden><div class=\"sk-item\"><div class=\"sk-estimator sk-toggleable\"><input class=\"sk-toggleable__control sk-hidden--visually\" id=\"sk-estimator-id-4\" type=\"checkbox\" checked><label for=\"sk-estimator-id-4\" class=\"sk-toggleable__label sk-toggleable__label-arrow\">LinearRegression</label><div class=\"sk-toggleable__content\"><pre>LinearRegression()</pre></div></div></div></div></div>"
      ],
      "text/plain": [
       "LinearRegression()"
      ]
     },
     "execution_count": 59,
     "metadata": {},
     "output_type": "execute_result"
    }
   ],
   "source": [
    "# fit linear regression\n",
    "model = linear_model.LinearRegression()\n",
    "model.fit(train_features, train_labels)"
   ]
  },
  {
   "cell_type": "code",
   "execution_count": 60,
   "id": "1a2f7ee8",
   "metadata": {},
   "outputs": [],
   "source": [
    "predictions = model.predict(test_features)"
   ]
  },
  {
   "cell_type": "code",
   "execution_count": 61,
   "id": "d51e1d63",
   "metadata": {},
   "outputs": [
    {
     "data": {
      "text/plain": [
       "223612.8930257464"
      ]
     },
     "execution_count": 61,
     "metadata": {},
     "output_type": "execute_result"
    }
   ],
   "source": [
    "mse = mean_squared_error(predictions, test_labels)\n",
    "mse"
   ]
  },
  {
   "cell_type": "code",
   "execution_count": 62,
   "id": "08262c50",
   "metadata": {},
   "outputs": [
    {
     "data": {
      "text/plain": [
       "368.0819415538433"
      ]
     },
     "execution_count": 62,
     "metadata": {},
     "output_type": "execute_result"
    }
   ],
   "source": [
    "mae = mean_absolute_error(predictions, test_labels)\n",
    "mae"
   ]
  },
  {
   "cell_type": "code",
   "execution_count": 63,
   "id": "6da84ae2",
   "metadata": {},
   "outputs": [
    {
     "data": {
      "text/plain": [
       "[Text(0.5, 0, 'Actual Emissions'), Text(0, 0.5, 'Predicted Emissions')]"
      ]
     },
     "execution_count": 63,
     "metadata": {},
     "output_type": "execute_result"
    },
    {
     "data": {
      "image/png": "[encoded data removed]",
      "text/plain": [
       "<Figure size 640x480 with 1 Axes>"
      ]
     },
     "metadata": {},
     "output_type": "display_data"
    }
   ],
   "source": [
    "ax = sns.regplot(x=test_labels, y=predictions)\n",
    "ax.set(xlabel='Actual Emissions', ylabel='Predicted Emissions')"
   ]
  },
  {
   "cell_type": "code",
   "execution_count": 64,
   "id": "ef9377e5",
   "metadata": {},
   "outputs": [],
   "source": [
    "columns = list(df.columns)"
   ]
  },
  {
   "cell_type": "code",
   "execution_count": 65,
   "id": "9cbf0e79",
   "metadata": {},
   "outputs": [],
   "source": [
    "coefficients = model.coef_\n",
    "coefficients = np.abs(coefficients)"
   ]
  },
  {
   "cell_type": "code",
   "execution_count": 66,
   "id": "8a582745",
   "metadata": {},
   "outputs": [
    {
     "data": {
      "text/plain": [
       "[(array([2.09326953e+02, 2.26183175e+02, 7.66961223e+00, 9.18660944e+00,\n",
       "         5.93397494e+01, 8.75970133e+01, 2.82572639e+01, 2.03823928e+02,\n",
       "         1.05237515e+03, 2.26692848e+02, 3.33856348e+02, 8.00727468e+02,\n",
       "         2.07705294e-01, 4.40845917e+02, 2.02352186e+02, 6.37921233e+01,\n",
       "         6.91415705e+01, 1.97002739e+02, 7.92286218e+01]),\n",
       "  'coal')]"
      ]
     },
     "execution_count": 66,
     "metadata": {},
     "output_type": "execute_result"
    }
   ],
   "source": [
    "list(zip(coefficients, columns))"
   ]
  },
  {
   "cell_type": "code",
   "execution_count": null,
   "id": "0e730255",
   "metadata": {},
   "outputs": [],
   "source": []
  },
  {
   "cell_type": "code",
   "execution_count": 67,
   "id": "66730d6d",
   "metadata": {},
   "outputs": [],
   "source": [
    "# informed "
   ]
  },
  {
   "cell_type": "code",
   "execution_count": 68,
   "id": "53ee80c2",
   "metadata": {},
   "outputs": [
    {
     "data": {
      "text/html": [
       "<div>\n",
       "<style scoped>\n",
       "    .dataframe tbody tr th:only-of-type {\n",
       "        vertical-align: middle;\n",
       "    }\n",
       "\n",
       "    .dataframe tbody tr th {\n",
       "        vertical-align: top;\n",
       "    }\n",
       "\n",
       "    .dataframe thead th {\n",
       "        text-align: right;\n",
       "    }\n",
       "</style>\n",
       "<table border=\"1\" class=\"dataframe\">\n",
       "  <thead>\n",
       "    <tr style=\"text-align: right;\">\n",
       "      <th></th>\n",
       "      <th>coal</th>\n",
       "      <th>electricity</th>\n",
       "      <th>natural gas</th>\n",
       "      <th>wood</th>\n",
       "      <th>private</th>\n",
       "      <th>public</th>\n",
       "      <th>walk/bicycle</th>\n",
       "      <th>diesel</th>\n",
       "      <th>electric</th>\n",
       "      <th>hybrid</th>\n",
       "      <th>lpg</th>\n",
       "      <th>petrol</th>\n",
       "      <th>Vehicle Monthly Distance Km</th>\n",
       "      <th>Frequency of Traveling by Air</th>\n",
       "      <th>Waste Per Week</th>\n",
       "      <th>CarbonEmission</th>\n",
       "    </tr>\n",
       "  </thead>\n",
       "  <tbody>\n",
       "    <tr>\n",
       "      <th>0</th>\n",
       "      <td>1</td>\n",
       "      <td>0</td>\n",
       "      <td>0</td>\n",
       "      <td>0</td>\n",
       "      <td>0</td>\n",
       "      <td>1</td>\n",
       "      <td>0</td>\n",
       "      <td>0</td>\n",
       "      <td>0</td>\n",
       "      <td>0</td>\n",
       "      <td>0</td>\n",
       "      <td>0</td>\n",
       "      <td>210</td>\n",
       "      <td>2</td>\n",
       "      <td>72</td>\n",
       "      <td>2238</td>\n",
       "    </tr>\n",
       "    <tr>\n",
       "      <th>1</th>\n",
       "      <td>0</td>\n",
       "      <td>0</td>\n",
       "      <td>1</td>\n",
       "      <td>0</td>\n",
       "      <td>0</td>\n",
       "      <td>0</td>\n",
       "      <td>1</td>\n",
       "      <td>0</td>\n",
       "      <td>0</td>\n",
       "      <td>0</td>\n",
       "      <td>0</td>\n",
       "      <td>0</td>\n",
       "      <td>9</td>\n",
       "      <td>1</td>\n",
       "      <td>108</td>\n",
       "      <td>1892</td>\n",
       "    </tr>\n",
       "    <tr>\n",
       "      <th>2</th>\n",
       "      <td>0</td>\n",
       "      <td>0</td>\n",
       "      <td>0</td>\n",
       "      <td>1</td>\n",
       "      <td>1</td>\n",
       "      <td>0</td>\n",
       "      <td>0</td>\n",
       "      <td>0</td>\n",
       "      <td>0</td>\n",
       "      <td>0</td>\n",
       "      <td>0</td>\n",
       "      <td>1</td>\n",
       "      <td>2472</td>\n",
       "      <td>0</td>\n",
       "      <td>6</td>\n",
       "      <td>2595</td>\n",
       "    </tr>\n",
       "    <tr>\n",
       "      <th>3</th>\n",
       "      <td>0</td>\n",
       "      <td>0</td>\n",
       "      <td>0</td>\n",
       "      <td>1</td>\n",
       "      <td>0</td>\n",
       "      <td>0</td>\n",
       "      <td>1</td>\n",
       "      <td>0</td>\n",
       "      <td>0</td>\n",
       "      <td>0</td>\n",
       "      <td>0</td>\n",
       "      <td>0</td>\n",
       "      <td>74</td>\n",
       "      <td>1</td>\n",
       "      <td>36</td>\n",
       "      <td>1074</td>\n",
       "    </tr>\n",
       "    <tr>\n",
       "      <th>4</th>\n",
       "      <td>1</td>\n",
       "      <td>0</td>\n",
       "      <td>0</td>\n",
       "      <td>0</td>\n",
       "      <td>1</td>\n",
       "      <td>0</td>\n",
       "      <td>0</td>\n",
       "      <td>1</td>\n",
       "      <td>0</td>\n",
       "      <td>0</td>\n",
       "      <td>0</td>\n",
       "      <td>0</td>\n",
       "      <td>8457</td>\n",
       "      <td>3</td>\n",
       "      <td>18</td>\n",
       "      <td>4743</td>\n",
       "    </tr>\n",
       "    <tr>\n",
       "      <th>...</th>\n",
       "      <td>...</td>\n",
       "      <td>...</td>\n",
       "      <td>...</td>\n",
       "      <td>...</td>\n",
       "      <td>...</td>\n",
       "      <td>...</td>\n",
       "      <td>...</td>\n",
       "      <td>...</td>\n",
       "      <td>...</td>\n",
       "      <td>...</td>\n",
       "      <td>...</td>\n",
       "      <td>...</td>\n",
       "      <td>...</td>\n",
       "      <td>...</td>\n",
       "      <td>...</td>\n",
       "      <td>...</td>\n",
       "    </tr>\n",
       "    <tr>\n",
       "      <th>9995</th>\n",
       "      <td>1</td>\n",
       "      <td>0</td>\n",
       "      <td>0</td>\n",
       "      <td>0</td>\n",
       "      <td>1</td>\n",
       "      <td>0</td>\n",
       "      <td>0</td>\n",
       "      <td>0</td>\n",
       "      <td>0</td>\n",
       "      <td>1</td>\n",
       "      <td>0</td>\n",
       "      <td>0</td>\n",
       "      <td>268</td>\n",
       "      <td>0</td>\n",
       "      <td>60</td>\n",
       "      <td>2408</td>\n",
       "    </tr>\n",
       "    <tr>\n",
       "      <th>9996</th>\n",
       "      <td>1</td>\n",
       "      <td>0</td>\n",
       "      <td>0</td>\n",
       "      <td>0</td>\n",
       "      <td>1</td>\n",
       "      <td>0</td>\n",
       "      <td>0</td>\n",
       "      <td>0</td>\n",
       "      <td>0</td>\n",
       "      <td>0</td>\n",
       "      <td>1</td>\n",
       "      <td>0</td>\n",
       "      <td>5316</td>\n",
       "      <td>2</td>\n",
       "      <td>108</td>\n",
       "      <td>3084</td>\n",
       "    </tr>\n",
       "    <tr>\n",
       "      <th>9997</th>\n",
       "      <td>0</td>\n",
       "      <td>1</td>\n",
       "      <td>0</td>\n",
       "      <td>0</td>\n",
       "      <td>0</td>\n",
       "      <td>0</td>\n",
       "      <td>1</td>\n",
       "      <td>0</td>\n",
       "      <td>0</td>\n",
       "      <td>0</td>\n",
       "      <td>0</td>\n",
       "      <td>0</td>\n",
       "      <td>96</td>\n",
       "      <td>3</td>\n",
       "      <td>180</td>\n",
       "      <td>2377</td>\n",
       "    </tr>\n",
       "    <tr>\n",
       "      <th>9998</th>\n",
       "      <td>1</td>\n",
       "      <td>0</td>\n",
       "      <td>0</td>\n",
       "      <td>0</td>\n",
       "      <td>1</td>\n",
       "      <td>0</td>\n",
       "      <td>0</td>\n",
       "      <td>0</td>\n",
       "      <td>0</td>\n",
       "      <td>0</td>\n",
       "      <td>0</td>\n",
       "      <td>1</td>\n",
       "      <td>8688</td>\n",
       "      <td>1</td>\n",
       "      <td>60</td>\n",
       "      <td>4574</td>\n",
       "    </tr>\n",
       "    <tr>\n",
       "      <th>9999</th>\n",
       "      <td>0</td>\n",
       "      <td>0</td>\n",
       "      <td>0</td>\n",
       "      <td>1</td>\n",
       "      <td>1</td>\n",
       "      <td>0</td>\n",
       "      <td>0</td>\n",
       "      <td>0</td>\n",
       "      <td>1</td>\n",
       "      <td>0</td>\n",
       "      <td>0</td>\n",
       "      <td>0</td>\n",
       "      <td>9952</td>\n",
       "      <td>0</td>\n",
       "      <td>24</td>\n",
       "      <td>826</td>\n",
       "    </tr>\n",
       "  </tbody>\n",
       "</table>\n",
       "<p>10000 rows × 16 columns</p>\n",
       "</div>"
      ],
      "text/plain": [
       "      coal  electricity  natural gas  wood  private  public  walk/bicycle  \\\n",
       "0        1            0            0     0        0       1             0   \n",
       "1        0            0            1     0        0       0             1   \n",
       "2        0            0            0     1        1       0             0   \n",
       "3        0            0            0     1        0       0             1   \n",
       "4        1            0            0     0        1       0             0   \n",
       "...    ...          ...          ...   ...      ...     ...           ...   \n",
       "9995     1            0            0     0        1       0             0   \n",
       "9996     1            0            0     0        1       0             0   \n",
       "9997     0            1            0     0        0       0             1   \n",
       "9998     1            0            0     0        1       0             0   \n",
       "9999     0            0            0     1        1       0             0   \n",
       "\n",
       "      diesel  electric  hybrid  lpg  petrol  Vehicle Monthly Distance Km  \\\n",
       "0          0         0       0    0       0                          210   \n",
       "1          0         0       0    0       0                            9   \n",
       "2          0         0       0    0       1                         2472   \n",
       "3          0         0       0    0       0                           74   \n",
       "4          1         0       0    0       0                         8457   \n",
       "...      ...       ...     ...  ...     ...                          ...   \n",
       "9995       0         0       1    0       0                          268   \n",
       "9996       0         0       0    1       0                         5316   \n",
       "9997       0         0       0    0       0                           96   \n",
       "9998       0         0       0    0       1                         8688   \n",
       "9999       0         1       0    0       0                         9952   \n",
       "\n",
       "      Frequency of Traveling by Air  Waste Per Week  CarbonEmission  \n",
       "0                                 2              72            2238  \n",
       "1                                 1             108            1892  \n",
       "2                                 0               6            2595  \n",
       "3                                 1              36            1074  \n",
       "4                                 3              18            4743  \n",
       "...                             ...             ...             ...  \n",
       "9995                              0              60            2408  \n",
       "9996                              2             108            3084  \n",
       "9997                              3             180            2377  \n",
       "9998                              1              60            4574  \n",
       "9999                              0              24             826  \n",
       "\n",
       "[10000 rows x 16 columns]"
      ]
     },
     "execution_count": 68,
     "metadata": {},
     "output_type": "execute_result"
    }
   ],
   "source": [
    "# waste bag sizes by gallons\n",
    "S = 6\n",
    "M = 12\n",
    "L = 18\n",
    "XL = 36\n",
    "volumes = [XL, L, M, S]\n",
    "\n",
    "columns = ['extra large waste bag', 'large waste bag', 'medium waste bag', 'small waste bag']\n",
    "waste_per_week = df[columns].dot(volumes) * df['Waste Bag Weekly Count']\n",
    "df_waste = pd.read_csv(filepath)\n",
    "df_waste = df_waste.drop(columns, axis=1)\n",
    "df_waste = df_waste.drop('Waste Bag Weekly Count', axis=1) \n",
    "df_waste.insert(loc=len(df_waste.columns)-1, column='Waste Per Week', value=waste_per_week)\n",
    "df_waste"
   ]
  },
  {
   "cell_type": "code",
   "execution_count": 69,
   "id": "1791f301",
   "metadata": {},
   "outputs": [],
   "source": [
    "dataset = np.asarray(df_waste, dtype='int32')\n",
    "np.random.seed(0)\n",
    "np.random.shuffle(dataset)\n",
    "\n",
    "features = dataset[:,:-1]\n",
    "labels = dataset[:,-1].reshape((len(dataset),-1))\n",
    "\n",
    "train_features = features[:8000]\n",
    "train_labels = labels[:8000]\n",
    "test_features = features[8000:]\n",
    "test_labels = labels[8000:]"
   ]
  },
  {
   "cell_type": "code",
   "execution_count": 70,
   "id": "6bea8550",
   "metadata": {},
   "outputs": [],
   "source": [
    "smaller_model = linear_model.Lasso()\n",
    "smaller_model.fit(train_features, train_labels)\n",
    "predictions = smaller_model.predict(test_features)"
   ]
  },
  {
   "cell_type": "code",
   "execution_count": 71,
   "id": "2b56393e",
   "metadata": {},
   "outputs": [
    {
     "data": {
      "text/plain": [
       "222931.62620238983"
      ]
     },
     "execution_count": 71,
     "metadata": {},
     "output_type": "execute_result"
    }
   ],
   "source": [
    "mse = mean_squared_error(predictions, test_labels)\n",
    "mse"
   ]
  },
  {
   "cell_type": "code",
   "execution_count": 72,
   "id": "8652eff1",
   "metadata": {},
   "outputs": [
    {
     "data": {
      "text/plain": [
       "367.4145650606538"
      ]
     },
     "execution_count": 72,
     "metadata": {},
     "output_type": "execute_result"
    }
   ],
   "source": [
    "mae = mean_absolute_error(predictions, test_labels)\n",
    "mae"
   ]
  },
  {
   "cell_type": "code",
   "execution_count": 73,
   "id": "60d9ec57",
   "metadata": {},
   "outputs": [
    {
     "data": {
      "text/plain": [
       "[Text(0.5, 0, 'Actual Emissions'), Text(0, 0.5, 'Predicted Emissions')]"
      ]
     },
     "execution_count": 73,
     "metadata": {},
     "output_type": "execute_result"
    },
    {
     "data": {
      "image/png": "[encoded data removed]",
      "text/plain": [
       "<Figure size 640x480 with 1 Axes>"
      ]
     },
     "metadata": {},
     "output_type": "display_data"
    }
   ],
   "source": [
    "ax = sns.regplot(x=test_labels, y=predictions)\n",
    "ax.set(xlabel='Actual Emissions', ylabel='Predicted Emissions')"
   ]
  }
 ],
 "metadata": {
  "kernelspec": {
   "display_name": "Python 3 (ipykernel)",
   "language": "python",
   "name": "python3"
  },
  "language_info": {
   "codemirror_mode": {
    "name": "ipython",
    "version": 3
   },
   "file_extension": ".py",
   "mimetype": "text/x-python",
   "name": "python",
   "nbconvert_exporter": "python",
   "pygments_lexer": "ipython3",
   "version": "3.11.5"
  }
 },
 "nbformat": 4,
 "nbformat_minor": 5
}
